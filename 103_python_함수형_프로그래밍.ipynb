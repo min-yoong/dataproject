{
  "nbformat": 4,
  "nbformat_minor": 0,
  "metadata": {
    "colab": {
      "provenance": [],
      "include_colab_link": true
    },
    "kernelspec": {
      "name": "python3",
      "display_name": "Python 3"
    },
    "language_info": {
      "name": "python"
    }
  },
  "cells": [
    {
      "cell_type": "markdown",
      "metadata": {
        "id": "view-in-github",
        "colab_type": "text"
      },
      "source": [
        "<a href=\"https://colab.research.google.com/github/susanna0507/dataproject/blob/master/103_python_%ED%95%A8%EC%88%98%ED%98%95_%ED%94%84%EB%A1%9C%EA%B7%B8%EB%9E%98%EB%B0%8D.ipynb\" target=\"_parent\"><img src=\"https://colab.research.google.com/assets/colab-badge.svg\" alt=\"Open In Colab\"/></a>"
      ]
    },
    {
      "cell_type": "markdown",
      "source": [
        "## 함수형 프로그래밍 (functional programing)\n",
        "### function (함수)란?\n",
        "\n",
        "1. programing 관점\n",
        "  - 재사용을 위해서 encapsulation 한 것\n",
        "\n",
        "2. mamth 관점\n",
        "  - 정의역의 원소들을 고역의 원소로 사상시키는 것  \n",
        "\n",
        "## functional programming?\n",
        "  - math와 programming의 function 개념의 차이를 최대한 줄여서 programing 하는 기법이다.  "
      ],
      "metadata": {
        "id": "r5p0GpPywNPS"
      }
    },
    {
      "cell_type": "markdown",
      "source": [
        "함수형 프로그래밍은 함수를 수학적 함수로 그대로 정의 한다.\n",
        "f(x)g(x)h(x)\n",
        "f(g(h(x)))\n",
        "- 조건 : 함수를 수학적 함수로 그래도 정의함 (문보다 식선호)\n",
        "- loop문, mutable(global, nonlocal) 사용안함\n"
      ],
      "metadata": {
        "id": "1FSfEDf2xb62"
      }
    },
    {
      "cell_type": "code",
      "source": [
        "# input(정의역)이 없으므로 수학적 관점에서 나쁜 함수\n",
        "def f( ):\n",
        "  return 1\n",
        "\n",
        "# output(공역)이 없으므로 수학적 관점에서 나쁜 함수\n",
        "def g(3):\n",
        "  print(3)"
      ],
      "metadata": {
        "colab": {
          "base_uri": "https://localhost:8080/",
          "height": 147
        },
        "id": "1Z_80n7hxVYp",
        "outputId": "5cabc93f-df9e-496d-cfc3-2295f2b8356b"
      },
      "execution_count": null,
      "outputs": [
        {
          "output_type": "error",
          "ename": "SyntaxError",
          "evalue": "ignored",
          "traceback": [
            "\u001b[0;36m  File \u001b[0;32m\"<ipython-input-1-c637864b610a>\"\u001b[0;36m, line \u001b[0;32m5\u001b[0m\n\u001b[0;31m    def g(3):\u001b[0m\n\u001b[0m          ^\u001b[0m\n\u001b[0;31mSyntaxError\u001b[0m\u001b[0;31m:\u001b[0m invalid syntax\n"
          ]
        }
      ]
    },
    {
      "cell_type": "markdown",
      "source": [
        "functional programming(함수형 프로그래밍)은 함수를 수학적 함수처럼 사용하는 것이다.  "
      ],
      "metadata": {
        "id": "jgKSm-RUyoK4"
      }
    },
    {
      "cell_type": "code",
      "source": [
        "from operator import add,mul,sub"
      ],
      "metadata": {
        "id": "-0w0cIHmy8Df"
      },
      "execution_count": null,
      "outputs": []
    },
    {
      "cell_type": "code",
      "source": [
        "add (3,4)"
      ],
      "metadata": {
        "colab": {
          "base_uri": "https://localhost:8080/"
        },
        "id": "sUTU3BVe0DPf",
        "outputId": "9ab67e06-3f75-4b99-92e4-97e6b032f46f"
      },
      "execution_count": null,
      "outputs": [
        {
          "output_type": "execute_result",
          "data": {
            "text/plain": [
              "7"
            ]
          },
          "metadata": {},
          "execution_count": 15
        }
      ]
    },
    {
      "cell_type": "code",
      "source": [
        "#곱셈함수\n",
        "mul(3,4)"
      ],
      "metadata": {
        "colab": {
          "base_uri": "https://localhost:8080/"
        },
        "id": "ro8kplpUzKeV",
        "outputId": "9a4d1a07-32fa-41a7-aa36-e8acabfc5afe"
      },
      "execution_count": null,
      "outputs": [
        {
          "output_type": "execute_result",
          "data": {
            "text/plain": [
              "12"
            ]
          },
          "metadata": {},
          "execution_count": 8
        }
      ]
    },
    {
      "cell_type": "code",
      "source": [
        "# 뺄셈 함수\n",
        "sub(3,4)"
      ],
      "metadata": {
        "colab": {
          "base_uri": "https://localhost:8080/"
        },
        "id": "pWqck9r1zNXN",
        "outputId": "89ac6cc3-ddf4-43e2-86d8-b032b389db89"
      },
      "execution_count": null,
      "outputs": [
        {
          "output_type": "execute_result",
          "data": {
            "text/plain": [
              "-1"
            ]
          },
          "metadata": {},
          "execution_count": 10
        }
      ]
    },
    {
      "cell_type": "code",
      "source": [
        "3+4*2"
      ],
      "metadata": {
        "colab": {
          "base_uri": "https://localhost:8080/"
        },
        "id": "0PJP1D4SzTRG",
        "outputId": "67112b5c-760e-426c-e78f-146ccb66470a"
      },
      "execution_count": null,
      "outputs": [
        {
          "output_type": "execute_result",
          "data": {
            "text/plain": [
              "11"
            ]
          },
          "metadata": {},
          "execution_count": 12
        }
      ]
    },
    {
      "cell_type": "markdown",
      "source": [
        "위의 사칙연산을 함수를 이용 할 수도 있다.   \n",
        "함수를 이용하면 명확하다는 장점이 있다."
      ],
      "metadata": {
        "id": "Kf9JYSpdz7Yl"
      }
    },
    {
      "cell_type": "code",
      "source": [
        "#합성함수와 같은 구조\n",
        "#g(f(x))\n",
        "add(3,mul(4,2))  ##3+4*2 같은 내용"
      ],
      "metadata": {
        "colab": {
          "base_uri": "https://localhost:8080/"
        },
        "id": "7d5iK4PdzlO9",
        "outputId": "0c5ae196-4d7a-47ae-8de9-253cb12cb0c5"
      },
      "execution_count": null,
      "outputs": [
        {
          "output_type": "execute_result",
          "data": {
            "text/plain": [
              "11"
            ]
          },
          "metadata": {},
          "execution_count": 16
        }
      ]
    },
    {
      "cell_type": "markdown",
      "source": [
        "## 순수함수 (pure function) & 부수효과 (side effect)\n",
        "- 순수함수 : 동일한 입력 값에 항상 동일한 출력값을 나타냄   \n",
        "- 부수효과 : 리턴값으로 결과를 만드는 것 외에 들어온 값을 직접 변경하는 등 외부에 영향을 주는 것   "
      ],
      "metadata": {
        "id": "Hw7gGbbX0jbu"
      }
    },
    {
      "cell_type": "code",
      "source": [
        "# 비순수함수\n",
        "# 매개변수 값을 변경하므로 순수함수가 아니다.\n",
        "def func(a):\n",
        "  a.append(3)\n",
        "  a.append(4)\n",
        "  return a"
      ],
      "metadata": {
        "id": "rryZyQSE08MP"
      },
      "execution_count": null,
      "outputs": []
    },
    {
      "cell_type": "code",
      "source": [
        "x = [5,6]\n",
        "func(x)"
      ],
      "metadata": {
        "colab": {
          "base_uri": "https://localhost:8080/"
        },
        "id": "eWqZ6_ex1Od8",
        "outputId": "5d9a0bd8-b27e-44c4-eed8-94a129f4740f"
      },
      "execution_count": null,
      "outputs": [
        {
          "output_type": "execute_result",
          "data": {
            "text/plain": [
              "[5, 6, 3, 4]"
            ]
          },
          "metadata": {},
          "execution_count": 21
        }
      ]
    },
    {
      "cell_type": "code",
      "source": [
        "# 비순수함수\n",
        "# c의 값이 달라지만 결과값도 달라지므로 순수함수가 아니다.\n",
        "c=10\n",
        "def func (a,b):\n",
        "  return a+b+c"
      ],
      "metadata": {
        "id": "h3lp0dkW1cK9"
      },
      "execution_count": null,
      "outputs": []
    },
    {
      "cell_type": "code",
      "source": [
        "func (1,2)"
      ],
      "metadata": {
        "colab": {
          "base_uri": "https://localhost:8080/"
        },
        "id": "1RtbIYSc1na8",
        "outputId": "7e59eaff-9be9-4fda-d8f2-5bb859115739"
      },
      "execution_count": null,
      "outputs": [
        {
          "output_type": "execute_result",
          "data": {
            "text/plain": [
              "13"
            ]
          },
          "metadata": {},
          "execution_count": 25
        }
      ]
    },
    {
      "cell_type": "code",
      "source": [
        "c= 14\n",
        "func(1,2)"
      ],
      "metadata": {
        "colab": {
          "base_uri": "https://localhost:8080/"
        },
        "id": "UaalCq0u15p5",
        "outputId": "db83993c-54c5-4706-e6fb-39735f1ca418"
      },
      "execution_count": null,
      "outputs": [
        {
          "output_type": "execute_result",
          "data": {
            "text/plain": [
              "17"
            ]
          },
          "metadata": {},
          "execution_count": 27
        }
      ]
    },
    {
      "cell_type": "code",
      "source": [
        "\n",
        "obj = {'x':10}\n",
        "def func(obj,b):\n",
        "  obj['x'] +=b\n"
      ],
      "metadata": {
        "id": "EdfRXYCS2Awk"
      },
      "execution_count": null,
      "outputs": []
    },
    {
      "cell_type": "code",
      "source": [
        "func(obj,3)\n",
        "print(obj)"
      ],
      "metadata": {
        "colab": {
          "base_uri": "https://localhost:8080/"
        },
        "id": "dCMRfxtI2RBz",
        "outputId": "80abab10-799d-486d-812b-39f738c97568"
      },
      "execution_count": null,
      "outputs": [
        {
          "output_type": "stream",
          "name": "stdout",
          "text": [
            "{'x': 13}\n"
          ]
        }
      ]
    },
    {
      "cell_type": "code",
      "source": [
        "#순수함수\n",
        "#동일한 입력값에 항상 동일한 출력 값을 나타냄\n",
        "\n",
        "def func(a,b):\n",
        "  return a+b"
      ],
      "metadata": {
        "id": "OSsa-LLC2zAc"
      },
      "execution_count": null,
      "outputs": []
    },
    {
      "cell_type": "code",
      "source": [
        "func(2,3)"
      ],
      "metadata": {
        "colab": {
          "base_uri": "https://localhost:8080/"
        },
        "id": "hN6w7AbW24LY",
        "outputId": "7a73715f-3a0e-4e20-d159-fd2cea35ceb2"
      },
      "execution_count": null,
      "outputs": [
        {
          "output_type": "execute_result",
          "data": {
            "text/plain": [
              "5"
            ]
          },
          "metadata": {},
          "execution_count": 40
        }
      ]
    },
    {
      "cell_type": "code",
      "source": [
        "## 순수 함수\n",
        "def func(a):\n",
        "   b = a**2\n",
        "   c = a+b\n",
        "   return c"
      ],
      "metadata": {
        "id": "Ow2jCBe53D0j"
      },
      "execution_count": null,
      "outputs": []
    },
    {
      "cell_type": "code",
      "source": [
        "func(3)"
      ],
      "metadata": {
        "colab": {
          "base_uri": "https://localhost:8080/"
        },
        "id": "RWJ2Xgvb3Tp0",
        "outputId": "603bae11-69f2-4aa4-b8c4-6567b08757a0"
      },
      "execution_count": null,
      "outputs": [
        {
          "output_type": "execute_result",
          "data": {
            "text/plain": [
              "12"
            ]
          },
          "metadata": {},
          "execution_count": 42
        }
      ]
    },
    {
      "cell_type": "markdown",
      "source": [
        "## 합성함수 (function composition)는 둘 이상의 함수를 조합한 함수이다.  "
      ],
      "metadata": {
        "id": "jsYi7-Nv661D"
      }
    },
    {
      "cell_type": "code",
      "source": [
        "def add (a,b):\n",
        "  return a+b\n",
        "\n",
        "def square(x):\n",
        "  return x*x\n",
        "\n",
        "def func(s) :\n",
        "  return s+10"
      ],
      "metadata": {
        "id": "rRII48j87DwK"
      },
      "execution_count": null,
      "outputs": []
    },
    {
      "cell_type": "code",
      "source": [
        "func(square(add (3,5)))"
      ],
      "metadata": {
        "colab": {
          "base_uri": "https://localhost:8080/"
        },
        "id": "u-faYcsv7YFa",
        "outputId": "041097a3-27da-43c7-d47f-df5285668b39"
      },
      "execution_count": null,
      "outputs": [
        {
          "output_type": "execute_result",
          "data": {
            "text/plain": [
              "74"
            ]
          },
          "metadata": {},
          "execution_count": 48
        }
      ]
    },
    {
      "cell_type": "markdown",
      "source": [
        "### lambda(람다)  \n",
        "- 식 형태로 되어 있다고 해서 람다표현식 (lambda expression) 이라고 부른다.  \n",
        "- 특히 람다 표현식은 함수를 간편하게 작성할 수 있어 다른 함수의 인수로 넣을 때 주로 사용한다.\n",
        "- lambda는 이름이 없어 익명함수를 만들때 사용한다.  "
      ],
      "metadata": {
        "id": "sss9AyCp73SL"
      }
    },
    {
      "cell_type": "code",
      "source": [
        "def func(a,b):\n",
        "  return a+b"
      ],
      "metadata": {
        "id": "DtcuFKE-8ob6"
      },
      "execution_count": null,
      "outputs": []
    },
    {
      "cell_type": "code",
      "source": [
        "# lambda parameter_1, parameter_2 : expression\n",
        "anc = lambda a, b : a+b   # a+b부분이 식을 쓰는 곳"
      ],
      "metadata": {
        "id": "IvnR3xmS8fNC"
      },
      "execution_count": null,
      "outputs": []
    },
    {
      "cell_type": "code",
      "source": [
        "type(anc)"
      ],
      "metadata": {
        "colab": {
          "base_uri": "https://localhost:8080/"
        },
        "id": "92wHUekg88LR",
        "outputId": "f81a0dd1-b52a-4ace-8b30-4da76b582b3f"
      },
      "execution_count": null,
      "outputs": [
        {
          "output_type": "execute_result",
          "data": {
            "text/plain": [
              "function"
            ]
          },
          "metadata": {},
          "execution_count": 53
        }
      ]
    },
    {
      "cell_type": "code",
      "source": [
        "print (dir(anc))"
      ],
      "metadata": {
        "colab": {
          "base_uri": "https://localhost:8080/"
        },
        "id": "Nqf-Kw8V9Ag5",
        "outputId": "0c72ee58-c5e9-48ea-970d-64126d0b5137"
      },
      "execution_count": null,
      "outputs": [
        {
          "output_type": "stream",
          "name": "stdout",
          "text": [
            "['__annotations__', '__builtins__', '__call__', '__class__', '__closure__', '__code__', '__defaults__', '__delattr__', '__dict__', '__dir__', '__doc__', '__eq__', '__format__', '__ge__', '__get__', '__getattribute__', '__globals__', '__gt__', '__hash__', '__init__', '__init_subclass__', '__kwdefaults__', '__le__', '__lt__', '__module__', '__name__', '__ne__', '__new__', '__qualname__', '__reduce__', '__reduce_ex__', '__repr__', '__setattr__', '__sizeof__', '__str__', '__subclasshook__']\n"
          ]
        }
      ]
    },
    {
      "cell_type": "code",
      "source": [
        "#lambda로 만든 함수는 __name__ 하면 이름이 안나온다.\n",
        "# 그래서 익명함수라고도 한다.\n",
        "anc.__name__"
      ],
      "metadata": {
        "colab": {
          "base_uri": "https://localhost:8080/",
          "height": 35
        },
        "id": "IbS_xAFl7JXa",
        "outputId": "46ee1fae-34fc-4a25-a86f-f654145a02e6"
      },
      "execution_count": null,
      "outputs": [
        {
          "output_type": "execute_result",
          "data": {
            "text/plain": [
              "'<lambda>'"
            ],
            "application/vnd.google.colaboratory.intrinsic+json": {
              "type": "string"
            }
          },
          "metadata": {},
          "execution_count": 57
        }
      ]
    },
    {
      "cell_type": "markdown",
      "source": [
        "1. 일반함수와 람다함수"
      ],
      "metadata": {
        "id": "XGqnxuSU9xlS"
      }
    },
    {
      "cell_type": "code",
      "source": [
        "#일반함수\n",
        "def plus_ten(x) :\n",
        "   return x+10"
      ],
      "metadata": {
        "id": "0MAy7_w99oOa"
      },
      "execution_count": null,
      "outputs": []
    },
    {
      "cell_type": "code",
      "source": [
        "plus_ten(3)"
      ],
      "metadata": {
        "colab": {
          "base_uri": "https://localhost:8080/"
        },
        "id": "ZcZ_tCHM994i",
        "outputId": "014da8af-edac-4b65-fd2e-062be3f735f6"
      },
      "execution_count": null,
      "outputs": [
        {
          "output_type": "execute_result",
          "data": {
            "text/plain": [
              "13"
            ]
          },
          "metadata": {},
          "execution_count": 61
        }
      ]
    },
    {
      "cell_type": "code",
      "source": [
        "#람다함수\n",
        "plus_ten2 = lambda x:x+10\n"
      ],
      "metadata": {
        "id": "huj8Knx3-D46"
      },
      "execution_count": null,
      "outputs": []
    },
    {
      "cell_type": "code",
      "source": [
        "plus_ten2(3)"
      ],
      "metadata": {
        "colab": {
          "base_uri": "https://localhost:8080/"
        },
        "id": "3Ft532m2-N0Y",
        "outputId": "03ddda1c-b583-4f27-b54c-a0042ecda3ae"
      },
      "execution_count": null,
      "outputs": [
        {
          "output_type": "execute_result",
          "data": {
            "text/plain": [
              "13"
            ]
          },
          "metadata": {},
          "execution_count": 64
        }
      ]
    },
    {
      "cell_type": "markdown",
      "source": [
        "2. 람다 표현식 자체를 호출하기\n",
        "   (lamda parameter : expression) (argument)  "
      ],
      "metadata": {
        "id": "qBxgqMlW-owa"
      }
    },
    {
      "cell_type": "code",
      "source": [
        "(lambda x:x+10) (3)"
      ],
      "metadata": {
        "colab": {
          "base_uri": "https://localhost:8080/"
        },
        "id": "EJNjB2Q8-zNe",
        "outputId": "68635ff7-5b6a-412c-997c-c791ed329fd0"
      },
      "execution_count": null,
      "outputs": [
        {
          "output_type": "execute_result",
          "data": {
            "text/plain": [
              "13"
            ]
          },
          "metadata": {},
          "execution_count": 67
        }
      ]
    },
    {
      "cell_type": "code",
      "source": [
        "(lambda x,y : x+y) (3,5)"
      ],
      "metadata": {
        "colab": {
          "base_uri": "https://localhost:8080/"
        },
        "id": "-U3i14-j_Gby",
        "outputId": "a5e5b025-20ac-4473-b3e1-03c160c2a490"
      },
      "execution_count": null,
      "outputs": [
        {
          "output_type": "execute_result",
          "data": {
            "text/plain": [
              "8"
            ]
          },
          "metadata": {},
          "execution_count": 69
        }
      ]
    },
    {
      "cell_type": "markdown",
      "source": [
        "3. 람다 표현식 바깥에 있는 변수를 사용할 수 있다.\n",
        "\n"
      ],
      "metadata": {
        "id": "ct8KgMTr_SR1"
      }
    },
    {
      "cell_type": "code",
      "source": [
        "y= 10\n",
        "(lambda x: x+y)(3)  # 콜론은 반드시 있어야 함"
      ],
      "metadata": {
        "colab": {
          "base_uri": "https://localhost:8080/"
        },
        "id": "NRA6ETzm_XVe",
        "outputId": "b0eff17d-7cd8-4f66-a8c6-c30b61273c3f"
      },
      "execution_count": null,
      "outputs": [
        {
          "output_type": "execute_result",
          "data": {
            "text/plain": [
              "13"
            ]
          },
          "metadata": {},
          "execution_count": 71
        }
      ]
    },
    {
      "cell_type": "markdown",
      "source": [
        "4. 람다 표현식으로 매개변수가 없는 함수 만들기   \n",
        "    매개변수들은 생략할 수 있지만 ':' (콜론) 뒤의 표현식은 생략 할 수 있다.  "
      ],
      "metadata": {
        "id": "irgn2gLH_z7m"
      }
    },
    {
      "cell_type": "code",
      "source": [
        "(lambda  : 1)( )"
      ],
      "metadata": {
        "colab": {
          "base_uri": "https://localhost:8080/"
        },
        "id": "H126mc0v_9UI",
        "outputId": "ad16d923-c25d-489e-e9d7-2ca10bd721e7"
      },
      "execution_count": null,
      "outputs": [
        {
          "output_type": "execute_result",
          "data": {
            "text/plain": [
              "1"
            ]
          },
          "metadata": {},
          "execution_count": 75
        }
      ]
    },
    {
      "cell_type": "markdown",
      "source": [
        "5. 람다 표현식을 인수로 사용하기  \n",
        "**-  람다 표현식을 map( ), filter::( ), reduce( ) 함수 등의 인수로 사용하면 간단하게 함수를 사용 할 수 있다. **"
      ],
      "metadata": {
        "id": "tCIjPEeMAQqo"
      }
    },
    {
      "cell_type": "code",
      "source": [
        "def plus(x) :\n",
        "  return x + 10"
      ],
      "metadata": {
        "id": "5g6q1boFAqbj"
      },
      "execution_count": null,
      "outputs": []
    },
    {
      "cell_type": "code",
      "source": [
        "#map (func, iterable)\n",
        "list(map(plus,[1,2,3]))"
      ],
      "metadata": {
        "colab": {
          "base_uri": "https://localhost:8080/"
        },
        "id": "7Hmq0Gc5AwAD",
        "outputId": "88c38acb-bf63-41db-ac90-f0a96e356278"
      },
      "execution_count": null,
      "outputs": [
        {
          "output_type": "execute_result",
          "data": {
            "text/plain": [
              "[11, 12, 13]"
            ]
          },
          "metadata": {},
          "execution_count": 80
        }
      ]
    },
    {
      "cell_type": "code",
      "source": [
        "# 람다표현식은 다른 함수의 인수(argument)로 넣으면 간단하다.\n",
        "list(map(lambda x : x+10, [1,2,3]))"
      ],
      "metadata": {
        "colab": {
          "base_uri": "https://localhost:8080/"
        },
        "id": "N539MFENCxGg",
        "outputId": "d7316431-9d3b-45b2-f7cf-120b3f839444"
      },
      "execution_count": null,
      "outputs": [
        {
          "output_type": "execute_result",
          "data": {
            "text/plain": [
              "[11, 12, 13]"
            ]
          },
          "metadata": {},
          "execution_count": 81
        }
      ]
    },
    {
      "cell_type": "code",
      "source": [
        "a = [1,2,3,4]\n",
        "b=  [5,6,7,8]\n",
        "list(map(lambda x,y : x+y, a,b ))"
      ],
      "metadata": {
        "colab": {
          "base_uri": "https://localhost:8080/"
        },
        "id": "6rOhLvfnAMUI",
        "outputId": "1b821c72-00fb-4165-9eef-f1f7e85b31ab"
      },
      "execution_count": null,
      "outputs": [
        {
          "output_type": "execute_result",
          "data": {
            "text/plain": [
              "[6, 8, 10, 12]"
            ]
          },
          "metadata": {},
          "execution_count": 85
        }
      ]
    },
    {
      "cell_type": "markdown",
      "source": [
        "filter(function, iterable) : filter 는 iteralble에서 function을 적용해서 True이면 남기도, False이면 제거하는 함수이다.   "
      ],
      "metadata": {
        "id": "e84Hgo9YEcQQ"
      }
    },
    {
      "cell_type": "code",
      "source": [
        "a = [1,2,3,4,5,6,7,8]\n",
        "list (filter(lambda x : x%2==0 , a))"
      ],
      "metadata": {
        "colab": {
          "base_uri": "https://localhost:8080/"
        },
        "id": "E5f_N2-9EKZP",
        "outputId": "3d85beff-3217-461f-ac35-718a2dfbed9d"
      },
      "execution_count": null,
      "outputs": [
        {
          "output_type": "execute_result",
          "data": {
            "text/plain": [
              "[2, 4, 6, 8]"
            ]
          },
          "metadata": {},
          "execution_count": 86
        }
      ]
    },
    {
      "cell_type": "markdown",
      "source": [
        "reduce(function, iterable) : reduce는 첫 인수 함수의 결과가 누적으로 적용된다."
      ],
      "metadata": {
        "id": "Fq543n0A_z6R"
      }
    },
    {
      "cell_type": "code",
      "source": [
        "from functools import reduce"
      ],
      "metadata": {
        "id": "dRkW0FsRJXLO"
      },
      "execution_count": null,
      "outputs": []
    },
    {
      "cell_type": "code",
      "source": [
        "reduce (lambda x, total : x + total, [1,2,3,4])"
      ],
      "metadata": {
        "colab": {
          "base_uri": "https://localhost:8080/"
        },
        "id": "qCPz36GsJAR2",
        "outputId": "fbd37a26-5c60-4572-ba80-3dee48b7ac22"
      },
      "execution_count": null,
      "outputs": [
        {
          "output_type": "execute_result",
          "data": {
            "text/plain": [
              "10"
            ]
          },
          "metadata": {},
          "execution_count": 88
        }
      ]
    },
    {
      "cell_type": "code",
      "source": [
        "reduce(add,[1,2,3,4])"
      ],
      "metadata": {
        "colab": {
          "base_uri": "https://localhost:8080/"
        },
        "id": "0rXPmw7Y_oXJ",
        "outputId": "8dc72ac3-b704-4d8e-b662-85622712f4be"
      },
      "execution_count": null,
      "outputs": [
        {
          "output_type": "execute_result",
          "data": {
            "text/plain": [
              "10"
            ]
          },
          "metadata": {},
          "execution_count": 90
        }
      ]
    },
    {
      "cell_type": "code",
      "source": [
        "reduce(lambda x, total : x*total,[1,2,3,4])"
      ],
      "metadata": {
        "colab": {
          "base_uri": "https://localhost:8080/"
        },
        "id": "xF6Hll7dKS_t",
        "outputId": "542ee4db-803e-4bae-9c8f-45f919b0dbbb"
      },
      "execution_count": null,
      "outputs": [
        {
          "output_type": "execute_result",
          "data": {
            "text/plain": [
              "24"
            ]
          },
          "metadata": {},
          "execution_count": 92
        }
      ]
    },
    {
      "cell_type": "code",
      "source": [
        "reduce(mul, [1,2,3,4])"
      ],
      "metadata": {
        "colab": {
          "base_uri": "https://localhost:8080/"
        },
        "id": "Qj8FwYbjKrK-",
        "outputId": "240cfb57-3465-49df-f804-b28f9a921c00"
      },
      "execution_count": null,
      "outputs": [
        {
          "output_type": "execute_result",
          "data": {
            "text/plain": [
              "24"
            ]
          },
          "metadata": {},
          "execution_count": 93
        }
      ]
    },
    {
      "cell_type": "markdown",
      "source": [
        "## 고차함수 (higher order function)\n",
        "\n",
        "- function을 변수나 자료구조의 값으로 사용할 수 있다.  \n",
        "- function을 parameter에서 받을 수 있다.\n",
        "- function을 리턴할 수 있다.  \n",
        "- map, filter, reduce는 함수형 프로그래밍에서 자주 사용되는 고차원 함수이다. 이중에서 reduce는 functool 모듈을 import해야만 사용할 수 있도록 바뀌었다.   \n",
        "\n",
        "### 일급객체 (first class object)\n",
        " - 변수에 할당 가능\n",
        " - 다른 함수의 전달인자로 전달 가능\n",
        " - 다른 함수의 결과로서 리턴이 가능\n",
        "\n",
        "\n",
        "\n",
        " *** python(함수는)은 일급객체이므로 고차함수를 사용할 수 있다. ***  "
      ],
      "metadata": {
        "id": "t4_8eOR5Lxsi"
      }
    },
    {
      "cell_type": "markdown",
      "source": [],
      "metadata": {
        "id": "UjAkiSoSLxq-"
      }
    },
    {
      "cell_type": "code",
      "source": [
        "def ss() :\n",
        "  return 3"
      ],
      "metadata": {
        "id": "fBiqj2qfKuKm"
      },
      "execution_count": null,
      "outputs": []
    },
    {
      "cell_type": "code",
      "source": [
        "def display(a):\n",
        "  return a"
      ],
      "metadata": {
        "id": "zLffyaZoPVxj"
      },
      "execution_count": null,
      "outputs": []
    },
    {
      "cell_type": "code",
      "source": [
        "## ss() 넘겨주면 display는 고차함수가 아니다.\n",
        "display(ss())"
      ],
      "metadata": {
        "colab": {
          "base_uri": "https://localhost:8080/"
        },
        "id": "5HauimipPa7D",
        "outputId": "dd498ce3-3a0e-42ad-bab9-32c1ed8b663c"
      },
      "execution_count": null,
      "outputs": [
        {
          "output_type": "execute_result",
          "data": {
            "text/plain": [
              "3"
            ]
          },
          "metadata": {},
          "execution_count": 99
        }
      ]
    },
    {
      "cell_type": "code",
      "source": [
        "# display 는 고차함수이다.\n",
        "k =display(ss)\n",
        "k()"
      ],
      "metadata": {
        "colab": {
          "base_uri": "https://localhost:8080/"
        },
        "id": "3J0aXTixPd77",
        "outputId": "d551190b-3b8f-4f34-a7a7-e9700b5c3141"
      },
      "execution_count": null,
      "outputs": [
        {
          "output_type": "execute_result",
          "data": {
            "text/plain": [
              "3"
            ]
          },
          "metadata": {},
          "execution_count": 102
        }
      ]
    },
    {
      "cell_type": "code",
      "source": [
        "display(ss)()"
      ],
      "metadata": {
        "colab": {
          "base_uri": "https://localhost:8080/"
        },
        "id": "pA0gCOIFP71c",
        "outputId": "cb07bad5-e53b-4cf1-ced5-88daed479622"
      },
      "execution_count": null,
      "outputs": [
        {
          "output_type": "execute_result",
          "data": {
            "text/plain": [
              "3"
            ]
          },
          "metadata": {},
          "execution_count": 103
        }
      ]
    },
    {
      "cell_type": "markdown",
      "source": [
        "## callback (콜백)\n",
        " - 함수 parameter에서 다른 함수를 받으면 이 parameter를 콜백함수한다 라고 얘기함   "
      ],
      "metadata": {
        "id": "aezk_dtZQv40"
      }
    },
    {
      "cell_type": "code",
      "source": [
        "def plus(callback):\n",
        "  callback()"
      ],
      "metadata": {
        "id": "dX7Er-JoQ_-a"
      },
      "execution_count": null,
      "outputs": []
    },
    {
      "cell_type": "code",
      "source": [
        "def display():\n",
        "  print('display')"
      ],
      "metadata": {
        "id": "6ZeAVuMxRKJL"
      },
      "execution_count": null,
      "outputs": []
    },
    {
      "cell_type": "code",
      "source": [
        "plus(display)"
      ],
      "metadata": {
        "colab": {
          "base_uri": "https://localhost:8080/"
        },
        "id": "07pkwXq_RSWa",
        "outputId": "2b1c339a-b835-4e0b-9402-a39075a7e36a"
      },
      "execution_count": null,
      "outputs": [
        {
          "output_type": "stream",
          "name": "stdout",
          "text": [
            "display\n"
          ]
        }
      ]
    },
    {
      "cell_type": "markdown",
      "source": [
        "## closure(클로저)\n",
        "- 함수의 중첩 : 함수 안에 함수를 정의 할 수 있다.\n",
        "- 함수를 중첩해서 사용하는 기법이다.\n",
        "- 함수를 정의할 때 outer함수는 inner함수를 return 하고, inner함수에서는 outer함수의 자원을 사용한다.  \n"
      ],
      "metadata": {
        "id": "seCyOG5WRzx0"
      }
    },
    {
      "cell_type": "code",
      "source": [
        "def t(a):\n",
        "  def x():\n",
        "    return a + 1\n",
        "  return x"
      ],
      "metadata": {
        "id": "q2o8fMcHSV6S"
      },
      "execution_count": null,
      "outputs": []
    },
    {
      "cell_type": "code",
      "source": [
        "p= t(3)\n",
        "p()"
      ],
      "metadata": {
        "colab": {
          "base_uri": "https://localhost:8080/"
        },
        "id": "Y2LkqaAeSf27",
        "outputId": "a8746fd7-7447-4cbb-f2c9-35513e39988b"
      },
      "execution_count": null,
      "outputs": [
        {
          "output_type": "execute_result",
          "data": {
            "text/plain": [
              "4"
            ]
          },
          "metadata": {},
          "execution_count": 111
        }
      ]
    },
    {
      "cell_type": "code",
      "source": [
        "def outer():\n",
        "  isShow =False\n",
        "  def inner():\n",
        "    nonlocal isShow\n",
        "    isShow = not isShow\n",
        "    return isShow\n",
        "  return inner"
      ],
      "metadata": {
        "id": "rXmzwmEIXHRL"
      },
      "execution_count": null,
      "outputs": []
    },
    {
      "cell_type": "code",
      "source": [
        "k= outer()\n",
        "k()"
      ],
      "metadata": {
        "colab": {
          "base_uri": "https://localhost:8080/"
        },
        "id": "XTzlldOwXTYg",
        "outputId": "ae50fb7f-a502-4a6c-bcca-9437f9145af7"
      },
      "execution_count": null,
      "outputs": [
        {
          "output_type": "execute_result",
          "data": {
            "text/plain": [
              "True"
            ]
          },
          "metadata": {},
          "execution_count": 128
        }
      ]
    },
    {
      "cell_type": "code",
      "source": [],
      "metadata": {
        "id": "cQN7KAUeYNoS"
      },
      "execution_count": null,
      "outputs": []
    },
    {
      "cell_type": "code",
      "source": [
        "#클로저\n",
        "def outer(isShow):\n",
        "  def inner():\n",
        "    return not isShow\n",
        "  return inner"
      ],
      "metadata": {
        "id": "_P-vlXnjXHP5"
      },
      "execution_count": null,
      "outputs": []
    },
    {
      "cell_type": "code",
      "source": [
        "k= outer(False)\n",
        "k()"
      ],
      "metadata": {
        "colab": {
          "base_uri": "https://localhost:8080/"
        },
        "id": "E-vzf_iyYO8P",
        "outputId": "b7169da8-c97a-417e-cc01-0adecd01eb2f"
      },
      "execution_count": null,
      "outputs": [
        {
          "output_type": "execute_result",
          "data": {
            "text/plain": [
              "True"
            ]
          },
          "metadata": {},
          "execution_count": 134
        }
      ]
    },
    {
      "cell_type": "code",
      "source": [
        "def outer(m) :\n",
        "  def inner(n):\n",
        "    return m+n\n",
        "  return inner"
      ],
      "metadata": {
        "id": "SPC1Z65OYO6w"
      },
      "execution_count": null,
      "outputs": []
    },
    {
      "cell_type": "code",
      "source": [
        "outer(3) (4)"
      ],
      "metadata": {
        "colab": {
          "base_uri": "https://localhost:8080/"
        },
        "id": "jLO2fln2ZF_v",
        "outputId": "f64f0034-9bbc-481d-9d97-0b38f0ad8a2b"
      },
      "execution_count": null,
      "outputs": [
        {
          "output_type": "execute_result",
          "data": {
            "text/plain": [
              "7"
            ]
          },
          "metadata": {},
          "execution_count": 140
        }
      ]
    }
  ]
}