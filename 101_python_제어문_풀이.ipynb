{
  "cells": [
    {
      "cell_type": "markdown",
      "metadata": {
        "id": "view-in-github",
        "colab_type": "text"
      },
      "source": [
        "<a href=\"https://colab.research.google.com/github/susanna0507/dataproject/blob/master/101_python_%EC%A0%9C%EC%96%B4%EB%AC%B8_%ED%92%80%EC%9D%B4.ipynb\" target=\"_parent\"><img src=\"https://colab.research.google.com/assets/colab-badge.svg\" alt=\"Open In Colab\"/></a>"
      ]
    },
    {
      "cell_type": "markdown",
      "metadata": {
        "id": "438hfkOuVD93"
      },
      "source": [
        "[문제1]  \n",
        "리스트에 저장된 문자열 중에서 길이가 5인 것들만 리스트 형태로 출력하도록 구현하세요.  \n",
        "\n",
        "a= ['alpha', 'bravo', 'charlie', 'delta', 'echo', 'foxtrot', 'golf', 'hotel', 'india']  \n",
        "\n",
        "\n",
        "[출력결과]  \n",
        "['alpha', 'bravo', 'delta', 'hotel', 'india']"
      ]
    },
    {
      "cell_type": "code",
      "execution_count": null,
      "metadata": {
        "colab": {
          "base_uri": "https://localhost:8080/"
        },
        "id": "4ILZWoRGVFLN",
        "outputId": "e018f6e0-f73b-4fc6-ffc9-1d735b579fd6"
      },
      "outputs": [
        {
          "data": {
            "text/plain": [
              "['alpha', 'bravo', 'delta', 'hotel', 'india']"
            ]
          },
          "execution_count": 1,
          "metadata": {},
          "output_type": "execute_result"
        }
      ],
      "source": [
        "a = ['alpha', 'bravo', 'charlie', 'delta', 'echo', 'foxtrot', 'golf', 'hotel', 'india']\n",
        "\n",
        "b = [i for i in a if len(i) ==5]\n",
        "b"
      ]
    },
    {
      "cell_type": "markdown",
      "metadata": {
        "id": "mtUiaSGqWbGl"
      },
      "source": [
        "[문제2]    \n",
        "가로 크기를 저장한 리스트를 활용해서 가로 크기가 불규칙한  리스트를 생성하도록 프로그램을 구현하세요.\n",
        "\n",
        "a = [3, 1, 3, 2, 5]  \n",
        "\n",
        "\n",
        "[출력결과]  \n",
        "[[0, 0, 0], [0], [0, 0, 0], [0, 0], [0, 0, 0, 0, 0]]\n"
      ]
    },
    {
      "cell_type": "code",
      "execution_count": null,
      "metadata": {
        "colab": {
          "base_uri": "https://localhost:8080/"
        },
        "id": "e5C8bcTHZtBg",
        "outputId": "bbaa87a8-055d-4397-bb47-af9908bb906e"
      },
      "outputs": [
        {
          "data": {
            "text/plain": [
              "[[0, 0, 0], [0], [0, 0, 0], [0, 0], [0, 0, 0, 0, 0]]"
            ]
          },
          "execution_count": 7,
          "metadata": {},
          "output_type": "execute_result"
        }
      ],
      "source": [
        "a = [3, 1, 3, 2, 5]\n",
        "b = [[0] * i for i in a]\n",
        "b"
      ]
    },
    {
      "cell_type": "markdown",
      "metadata": {
        "id": "2F8ZK_7gaxW6"
      },
      "source": [
        "[문제3]    \n",
        "포트폴리오의 총 비용을 계산하는 프로그램을 구현하세요.   \n",
        "\n",
        "portfolio = [{'name':'AA', 'shares':100, 'price':32.20},{'name':'IBM', 'shares':50, 'price':91.10},{'name':'CAT', 'shares':150, 'price':83.44},{'name':'MSFT', 'shares':200, 'price':51.23},{'name':'GE', 'shares':95, 'price':40.37},{'name':'MSFT', 'shares':50, 'price':65.10},{'name':'IBM', 'shares':100, 'price':70.44} ]     \n",
        "\n",
        "[출력결과]  \n",
        "44671.15"
      ]
    },
    {
      "cell_type": "code",
      "execution_count": null,
      "metadata": {
        "colab": {
          "base_uri": "https://localhost:8080/"
        },
        "id": "KBQoUcyrP_Ak",
        "outputId": "dcec052b-147c-4a71-d49a-e037e0cc063e"
      },
      "outputs": [
        {
          "name": "stdout",
          "output_type": "stream",
          "text": [
            "[3220.0000000000005, 4555.0, 12516.0, 10246.0, 3835.1499999999996, 3254.9999999999995, 7044.0]\n"
          ]
        },
        {
          "data": {
            "text/plain": [
              "44671.15"
            ]
          },
          "execution_count": 8,
          "metadata": {},
          "output_type": "execute_result"
        }
      ],
      "source": [
        "portfolio = [{'name':'AA', 'shares':100, 'price':32.20},{'name':'IBM', 'shares':50, 'price':91.10},{'name':'CAT', 'shares':150, 'price':83.44},{'name':'MSFT', 'shares':200, 'price':51.23},{'name':'GE', 'shares':95, 'price':40.37},{'name':'MSFT', 'shares':50, 'price':65.10},{'name':'IBM', 'shares':100, 'price':70.44} ]\n",
        "cost = sum([ s['shares'] * s['price'] for s in portfolio ])\n",
        "cost\n"
      ]
    },
    {
      "cell_type": "markdown",
      "metadata": {
        "id": "Q1Pm1J20SbnA"
      },
      "source": [
        "[문제4]  \n",
        "포트폴리오에서 100주 이상 보유한 종목의 리스트를 출력하는 프로그램을 구현하세요.    \n",
        "portfolio = [{'name':'AA', 'shares':100, 'price':32.20},{'name':'IBM', 'shares':50, 'price':91.10},{'name':'CAT', 'shares':150, 'price':83.44},{'name':'MSFT', 'shares':200, 'price':51.23},{'name':'GE', 'shares':95, 'price':40.37},{'name':'MSFT', 'shares':50, 'price':65.10},{'name':'IBM', 'shares':100, 'price':70.44} ]  \n",
        "\n",
        "\n",
        "[출력결과]  \n",
        "[{'name': 'AA', 'shares': 100, 'price': 32.2},\n",
        " {'name': 'CAT', 'shares': 150, 'price': 83.44},\n",
        " {'name': 'MSFT', 'shares': 200, 'price': 51.23},\n",
        " {'name': 'IBM', 'shares': 100, 'price': 70.44}]\n"
      ]
    },
    {
      "cell_type": "code",
      "execution_count": null,
      "metadata": {
        "colab": {
          "base_uri": "https://localhost:8080/"
        },
        "id": "zgRx1dz1Xt24",
        "outputId": "6791efa6-5abb-4e43-8fc0-4b05fbb17d95"
      },
      "outputs": [
        {
          "data": {
            "text/plain": [
              "[{'name': 'AA', 'shares': 100, 'price': 32.2},\n",
              " {'name': 'CAT', 'shares': 150, 'price': 83.44},\n",
              " {'name': 'MSFT', 'shares': 200, 'price': 51.23},\n",
              " {'name': 'IBM', 'shares': 100, 'price': 70.44}]"
            ]
          },
          "execution_count": 9,
          "metadata": {},
          "output_type": "execute_result"
        }
      ],
      "source": [
        "portfolio = [{'name':'AA', 'shares':100, 'price':32.20},{'name':'IBM', 'shares':50, 'price':91.10},{'name':'CAT', 'shares':150, 'price':83.44},{'name':'MSFT', 'shares':200, 'price':51.23},{'name':'GE', 'shares':95, 'price':40.37},{'name':'MSFT', 'shares':50, 'price':65.10},{'name':'IBM', 'shares':100, 'price':70.44} ]\n",
        "more100 = [ s for s in portfolio if s['shares'] >= 100 ]\n",
        "more100"
      ]
    },
    {
      "cell_type": "markdown",
      "metadata": {
        "id": "W3L9WsjHTX0N"
      },
      "source": [
        "[문제5]\n",
        "\n",
        "보유한 MSFT와 IBM주식 전체 리스트를 출력하는 프로그램을 구현하세요.  \n",
        "\n",
        "portfolio = [{'name':'AA', 'shares':100, 'price':32.20},{'name':'IBM', 'shares':50, 'price':91.10},{'name':'CAT', 'shares':150, 'price':83.44},{'name':'MSFT', 'shares':200, 'price':51.23},{'name':'GE', 'shares':95, 'price':40.37},{'name':'MSFT', 'shares':50, 'price':65.10},{'name':'IBM', 'shares':100, 'price':70.44} ]  \n",
        "\n",
        "[출력결과]   \n",
        "[{'name': 'IBM', 'price': 91.1, 'shares': 50},\n",
        " {'name': 'MSFT', 'price': 51.23, 'shares': 200},\n",
        " {'name': 'MSFT', 'price': 65.1, 'shares': 50},\n",
        " {'name': 'IBM', 'price': 70.44, 'shares': 100}]  \n",
        "\n"
      ]
    },
    {
      "cell_type": "code",
      "execution_count": null,
      "metadata": {
        "colab": {
          "base_uri": "https://localhost:8080/"
        },
        "id": "OEHa-H5VXgno",
        "outputId": "542ffebc-ea11-4ba4-e9d5-7ef267d2d70f"
      },
      "outputs": [
        {
          "data": {
            "text/plain": [
              "[{'name': 'IBM', 'shares': 50, 'price': 91.1},\n",
              " {'name': 'MSFT', 'shares': 200, 'price': 51.23},\n",
              " {'name': 'MSFT', 'shares': 50, 'price': 65.1},\n",
              " {'name': 'IBM', 'shares': 100, 'price': 70.44}]"
            ]
          },
          "execution_count": 10,
          "metadata": {},
          "output_type": "execute_result"
        }
      ],
      "source": [
        "portfolio = [{'name':'AA', 'shares':100, 'price':32.20},{'name':'IBM', 'shares':50, 'price':91.10},{'name':'CAT', 'shares':150, 'price':83.44},{'name':'MSFT', 'shares':200, 'price':51.23},{'name':'GE', 'shares':95, 'price':40.37},{'name':'MSFT', 'shares':50, 'price':65.10},{'name':'IBM', 'shares':100, 'price':70.44} ]\n",
        "msftibm = [ s for s in portfolio if s['name'] in {'MSFT','IBM'} ]\n",
        "msftibm"
      ]
    },
    {
      "cell_type": "markdown",
      "metadata": {
        "id": "KSu5MhEpUiM1"
      },
      "source": [
        "[문제6]\n",
        "보유 종목 중 가격이 10,000달러가 넘는 것의 리스트를 구현하는 프로그램을 구현하세요.  \n",
        "portfolio = [{'name':'AA', 'shares':100, 'price':32.20},{'name':'IBM', 'shares':50, 'price':91.10},{'name':'CAT', 'shares':150, 'price':83.44},{'name':'MSFT', 'shares':200, 'price':51.23},{'name':'GE', 'shares':95, 'price':40.37},{'name':'MSFT', 'shares':50, 'price':65.10},{'name':'IBM', 'shares':100, 'price':70.44} ]\n",
        "\n",
        "[출력결과]    \n",
        "[{'name': 'CAT', 'price': 83.44, 'shares': 150},\n",
        " {'name': 'MSFT', 'price': 51.23, 'shares': 200}]"
      ]
    },
    {
      "cell_type": "code",
      "execution_count": null,
      "metadata": {
        "colab": {
          "base_uri": "https://localhost:8080/"
        },
        "id": "g-97ukatXTS2",
        "outputId": "eaab6328-0158-416e-bf57-acdbc778246d"
      },
      "outputs": [
        {
          "data": {
            "text/plain": [
              "[{'name': 'CAT', 'shares': 150, 'price': 83.44},\n",
              " {'name': 'MSFT', 'shares': 200, 'price': 51.23}]"
            ]
          },
          "execution_count": 12,
          "metadata": {},
          "output_type": "execute_result"
        }
      ],
      "source": [
        "portfolio = [{'name':'AA', 'shares':100, 'price':32.20},{'name':'IBM', 'shares':50, 'price':91.10},{'name':'CAT', 'shares':150, 'price':83.44},{'name':'MSFT', 'shares':200, 'price':51.23},{'name':'GE', 'shares':95, 'price':40.37},{'name':'MSFT', 'shares':50, 'price':65.10},{'name':'IBM', 'shares':100, 'price':70.44} ]\n",
        "\n",
        "cost10k = [ s for s in portfolio if s['shares'] * s['price'] > 10000 ]\n",
        "cost10k"
      ]
    },
    {
      "cell_type": "markdown",
      "metadata": {
        "id": "gDmxNuK2VyPP"
      },
      "source": [
        "[문제7]   \n",
        "portfolio에서 얻은 name과 shares를 가지고 튜플의 리스트 (name, shares)를 만드는 프로그램을 구현하세요.  \n",
        "portfolio = [{'name':'AA', 'shares':100, 'price':32.20},{'name':'IBM', 'shares':50, 'price':91.10},{'name':'CAT', 'shares':150, 'price':83.44},{'name':'MSFT', 'shares':200, 'price':51.23},{'name':'GE', 'shares':95, 'price':40.37},{'name':'MSFT', 'shares':50, 'price':65.10},{'name':'IBM', 'shares':100, 'price':70.44} ]\n",
        "\n",
        "[출력결과]   \n",
        "[('AA', 100),\n",
        " ('IBM', 50),\n",
        " ('CAT', 150),\n",
        " ('MSFT', 200),\n",
        " ('GE', 95),\n",
        " ('MSFT', 50),\n",
        " ('IBM', 100)]\n",
        "\n"
      ]
    },
    {
      "cell_type": "code",
      "execution_count": null,
      "metadata": {
        "colab": {
          "base_uri": "https://localhost:8080/"
        },
        "id": "PD5uTxW1V3nR",
        "outputId": "dd1cbcb2-e62f-4b15-b040-7881271bac0e"
      },
      "outputs": [
        {
          "data": {
            "text/plain": [
              "[('AA', 100),\n",
              " ('IBM', 50),\n",
              " ('CAT', 150),\n",
              " ('MSFT', 200),\n",
              " ('GE', 95),\n",
              " ('MSFT', 50),\n",
              " ('IBM', 100)]"
            ]
          },
          "execution_count": 18,
          "metadata": {
            "tags": []
          },
          "output_type": "execute_result"
        }
      ],
      "source": [
        "portfolio = [{'name':'AA', 'shares':100, 'price':32.20},{'name':'IBM', 'shares':50, 'price':91.10},{'name':'CAT', 'shares':150, 'price':83.44},{'name':'MSFT', 'shares':200, 'price':51.23},{'name':'GE', 'shares':95, 'price':40.37},{'name':'MSFT', 'shares':50, 'price':65.10},{'name':'IBM', 'shares':100, 'price':70.44} ]\n",
        "name_shares =[ (s['name'], s['shares']) for s in portfolio ]\n",
        "name_shares"
      ]
    },
    {
      "cell_type": "markdown",
      "metadata": {
        "id": "Lce-bQUJYAJM"
      },
      "source": [
        "[문제8]  \n",
        "\n",
        "리스트에서 int만 추출하는 프로그램을 구현하세요.  \n",
        "oldlist = [1, 2, 'A', False, 3]\n",
        "\n",
        "[출력결과]   \n",
        "[1, 2, 3]  \n"
      ]
    },
    {
      "cell_type": "code",
      "execution_count": null,
      "metadata": {
        "colab": {
          "base_uri": "https://localhost:8080/"
        },
        "id": "Di_8PIoRYSam",
        "outputId": "b66ac280-ebf8-4f98-d409-ce283bba9cbe"
      },
      "outputs": [
        {
          "output_type": "execute_result",
          "data": {
            "text/plain": [
              "[1, 2, 3]"
            ]
          },
          "metadata": {},
          "execution_count": 1
        }
      ],
      "source": [
        "oldlist = [1, 2, 'A', False, 3]\n",
        "\n",
        "newlist = [i for i in oldlist if type(i)==int]\n",
        "newlist"
      ]
    },
    {
      "cell_type": "markdown",
      "metadata": {
        "id": "MU7MlaAuck1t"
      },
      "source": [
        "[문제9]   \n",
        "1부터 10까지의 홀수, 짝수로 출력하는 프로그램을 구현하세요.\n",
        "\n",
        "[출력결과]   \n",
        "{1: '홀수',\n",
        " 2: '짝수',\n",
        " 3: '홀수',\n",
        " 4: '짝수',\n",
        " 5: '홀수',\n",
        " 6: '짝수',\n",
        " 7: '홀수',\n",
        " 8: '짝수',\n",
        " 9: '홀수',\n",
        " 10: '짝수'}\n"
      ]
    },
    {
      "cell_type": "code",
      "execution_count": null,
      "metadata": {
        "colab": {
          "base_uri": "https://localhost:8080/"
        },
        "id": "09TxSQWigSvk",
        "outputId": "2f019493-c06d-495a-934d-f24c3e01c7d0"
      },
      "outputs": [
        {
          "data": {
            "text/plain": [
              "{1: '홀수',\n",
              " 2: '짝수',\n",
              " 3: '홀수',\n",
              " 4: '짝수',\n",
              " 5: '홀수',\n",
              " 6: '짝수',\n",
              " 7: '홀수',\n",
              " 8: '짝수',\n",
              " 9: '홀수',\n",
              " 10: '짝수'}"
            ]
          },
          "execution_count": 16,
          "metadata": {},
          "output_type": "execute_result"
        }
      ],
      "source": [
        "result = { n:'짝수' if n%2==0 else '홀수' for n in range(1, 11)}\n",
        "result"
      ]
    }
  ],
  "metadata": {
    "colab": {
      "provenance": [],
      "include_colab_link": true
    },
    "kernelspec": {
      "display_name": "Python 3",
      "language": "python",
      "name": "python3"
    },
    "language_info": {
      "codemirror_mode": {
        "name": "ipython",
        "version": 3
      },
      "file_extension": ".py",
      "mimetype": "text/x-python",
      "name": "python",
      "nbconvert_exporter": "python",
      "pygments_lexer": "ipython3",
      "version": "3.8.8"
    }
  },
  "nbformat": 4,
  "nbformat_minor": 0
}